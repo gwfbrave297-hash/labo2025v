{
  "nbformat": 4,
  "nbformat_minor": 0,
  "metadata": {
    "colab": {
      "provenance": [],
      "include_colab_link": true
    },
    "kernelspec": {
      "name": "ir",
      "display_name": "R"
    },
    "language_info": {
      "name": "R"
    }
  },
  "cells": [
    {
      "cell_type": "markdown",
      "metadata": {
        "id": "view-in-github",
        "colab_type": "text"
      },
      "source": [
        "<a href=\"https://colab.research.google.com/github/gwfbrave297-hash/labo2025v/blob/main/src/rpart/290_TareaHogar_02RandomGridCP(-0.5)051025-B.ipynb\" target=\"_parent\"><img src=\"https://colab.research.google.com/assets/colab-badge.svg\" alt=\"Open In Colab\"/></a>"
      ]
    },
    {
      "cell_type": "markdown",
      "source": [
        "# Tarea para el Hogar 02"
      ],
      "metadata": {
        "id": "F3r8aa3pBigj"
      }
    },
    {
      "cell_type": "markdown",
      "source": [
        "Esta Tarea para el Hogar 02 se entrega el final de la segunda clase\n",
        "<br> se espera de usted que intente avanzar con los desafios propuestos y que los traiga terminados para la Clase 03, ya que se analizarán los resultados"
      ],
      "metadata": {
        "id": "nBm4ktHUBmZt"
      }
    },
    {
      "cell_type": "markdown",
      "source": [
        "##  1. Ensembles de Modelos"
      ],
      "metadata": {
        "id": "TK-M04ElCESC"
      }
    },
    {
      "cell_type": "markdown",
      "source": [
        "Vea el siguiente video [BBC - The Code - The Wisdom of the Crowd](https://www.youtube.com/watch?v=iOucwX7Z1HU)    ( 5 min)\n"
      ],
      "metadata": {
        "id": "biPYxgobCOSS"
      }
    },
    {
      "cell_type": "markdown",
      "source": [
        "Lea los siguientes artículos\n",
        "\n",
        "\n",
        "*   [The Wisdom of Crowds (Vox Populi) by Francis Galton](https://www.all-about-psychology.com/the-wisdom-of-crowds.html)  (10 min)\n",
        "*   [A Gentle Introduction to Ensemble Learning](https://machinelearningmastery.com/what-is-ensemble-learning/)  (10 min)\n",
        "\n"
      ],
      "metadata": {
        "id": "FBszBRyNCcjp"
      }
    },
    {
      "cell_type": "markdown",
      "source": [
        "\n",
        "\n",
        "---\n",
        "\n"
      ],
      "metadata": {
        "id": "x7SebtV2lpHQ"
      }
    },
    {
      "cell_type": "markdown",
      "source": [
        "##  2.  Zero2Hero   primera parte\n",
        "Se han lanzado los primeros fascículos coleccionables llamados \"from Zero to Hero\" que muy detalladamente, paso a paso enseñan todo lo necesario de R para entender los scripts oficiales de la asignatura.\n",
        "Están en el repositorio oficial de la asignatura, carpeta  **src/zero2hero**"
      ],
      "metadata": {
        "id": "NQcY8u2MDSLT"
      }
    },
    {
      "cell_type": "markdown",
      "source": [
        "\n",
        "\n",
        "---\n",
        "\n"
      ],
      "metadata": {
        "id": "GcO0OSiIEAGy"
      }
    },
    {
      "cell_type": "markdown",
      "source": [
        "## 3.  Grid Search"
      ],
      "metadata": {
        "id": "6MStcyn0EBdT"
      }
    },
    {
      "cell_type": "markdown",
      "source": [
        "Busque en internet el precido significado de los hiperparámetros de la librería **rpart**  que está implementando el algoritmo **CART**  Classification and Regression Trees  propuesto en el año 1984 por Leo Brieman:\n",
        "\n",
        "*   cp\n",
        "*   maxdepth\n",
        "*   minsplit\n",
        "*   minbucket\n",
        "\n",
        "Entienda que valores es razonable tome cada hiperparámetro,  en particular profundice en el hiperparámetro  **cp**  y la posibilidad que tome valores negativos.  Es válido consultar a su amigo de *capacidades especiales*  ChatGPT\n"
      ],
      "metadata": {
        "id": "gM8RKXDgEIY0"
      }
    },
    {
      "cell_type": "markdown",
      "source": [
        "En las siguientes celdas a un notebook incompleto, un esqueleto de codigo brindado a modo de facilitarle la tarea de codeo y permitir que su valiosa cognición se concentre temas conceptuales de Ciencia de Datos\n",
        "\n",
        "Modifiquelo agregando loops para que recorra TODOS los hiperparámetros de rpart  < cp, maxdepth, minsplit, minbucket >, y luego póngalo a correr. Recuerde cambiar por SU semilla\n",
        "Tenga muy presente la granularidad que eligirá para cada hiperparámetro."
      ],
      "metadata": {
        "id": "_k7eT3HIFy9y"
      }
    },
    {
      "cell_type": "markdown",
      "source": [
        "### Seteo del ambiente en Google Colab"
      ],
      "metadata": {
        "id": "kmLygy1TYPfg"
      }
    },
    {
      "cell_type": "markdown",
      "source": [
        "Esta parte se debe correr con el runtime en Python3\n",
        "<br>Ir al menu, Runtime -> Change Runtime Tipe -> Runtime type ->  **Python 3**"
      ],
      "metadata": {
        "id": "OikOm5K2YU3X"
      }
    },
    {
      "cell_type": "markdown",
      "source": [
        "Conectar la virtual machine donde esta corriendo Google Colab con el  Google Drive, para poder tener persistencia de archivos"
      ],
      "metadata": {
        "id": "4fmV5LyZdFyI"
      }
    },
    {
      "cell_type": "code",
      "source": [
        "# primero establecer el Runtime de Python 3\n",
        "from google.colab import drive\n",
        "drive.mount('/content/.drive')"
      ],
      "metadata": {
        "id": "ilEZ-bE2VybW",
        "outputId": "215df2f2-60a2-4d90-92ef-1e626345bda0",
        "colab": {
          "base_uri": "https://localhost:8080/"
        }
      },
      "execution_count": 1,
      "outputs": [
        {
          "output_type": "stream",
          "name": "stdout",
          "text": [
            "Mounted at /content/.drive\n"
          ]
        }
      ]
    },
    {
      "cell_type": "markdown",
      "source": [
        "Para correr la siguiente celda es fundamental en Arranque en Frio haber copiado el archivo kaggle.json al Google Drive, en la carpeta indicada en el instructivo\n",
        "\n",
        "<br>los siguientes comando estan en shell script de Linux\n",
        "*   Crear las carpetas en el Google Drive\n",
        "*   \"instalar\" el archivo kaggle.json desde el Google Drive a la virtual machine para que pueda ser utilizado por la libreria  kaggle de Python\n",
        "*   Bajar el  **dataset_pequeno**  al  Google Drive  y tambien al disco local de la virtual machine que esta corriendo Google Colab\n",
        "\n"
      ],
      "metadata": {
        "id": "ilaKtqWldeWg"
      }
    },
    {
      "cell_type": "code",
      "source": [
        "%%shell\n",
        "\n",
        "mkdir -p \"/content/.drive/My Drive/labo1\"\n",
        "mkdir -p \"/content/buckets\"\n",
        "ln -s \"/content/.drive/My Drive/labo1\" /content/buckets/b1\n",
        "\n",
        "mkdir -p ~/.kaggle\n",
        "cp /content/buckets/b1/kaggle/kaggle.json  ~/.kaggle\n",
        "chmod 600 ~/.kaggle/kaggle.json\n",
        "\n",
        "\n",
        "mkdir -p /content/buckets/b1/exp\n",
        "mkdir -p /content/buckets/b1/datasets\n",
        "mkdir -p /content/datasets\n",
        "\n",
        "\n",
        "\n",
        "archivo_origen=\"https://storage.googleapis.com/open-courses/austral2025-af91/dataset_pequeno.csv\"\n",
        "archivo_destino=\"/content/datasets/dataset_pequeno.csv\"\n",
        "archivo_destino_bucket=\"/content/buckets/b1/datasets/dataset_pequeno.csv\"\n",
        "\n",
        "if ! test -f $archivo_destino_bucket; then\n",
        "  wget  $archivo_origen  -O $archivo_destino_bucket\n",
        "fi\n",
        "\n",
        "\n",
        "if ! test -f $archivo_destino; then\n",
        "  cp  $archivo_destino_bucket  $archivo_destino\n",
        "fi\n",
        "\n"
      ],
      "metadata": {
        "id": "W8dQFI5QYCFa",
        "outputId": "b133c43c-8dc1-4ab0-b6e7-a50c78ce78fa",
        "colab": {
          "base_uri": "https://localhost:8080/"
        }
      },
      "execution_count": 2,
      "outputs": [
        {
          "output_type": "execute_result",
          "data": {
            "text/plain": []
          },
          "metadata": {},
          "execution_count": 2
        }
      ]
    },
    {
      "cell_type": "markdown",
      "source": [
        "limpio el ambiente de R"
      ],
      "metadata": {
        "id": "SE94XRhWsxkX"
      }
    },
    {
      "cell_type": "code",
      "source": [
        "# limpio la memoria\n",
        "rm(list=ls(all.names=TRUE)) # remove all objects\n",
        "gc(full=TRUE, verbose=FALSE) # garbage collection"
      ],
      "metadata": {
        "id": "oZG_4br6szlT",
        "outputId": "99d992ee-a571-48bf-8d40-94aed8a4e413",
        "colab": {
          "base_uri": "https://localhost:8080/",
          "height": 129
        }
      },
      "execution_count": 1,
      "outputs": [
        {
          "output_type": "display_data",
          "data": {
            "text/html": [
              "<table class=\"dataframe\">\n",
              "<caption>A matrix: 2 × 6 of type dbl</caption>\n",
              "<thead>\n",
              "\t<tr><th></th><th scope=col>used</th><th scope=col>(Mb)</th><th scope=col>gc trigger</th><th scope=col>(Mb)</th><th scope=col>max used</th><th scope=col>(Mb)</th></tr>\n",
              "</thead>\n",
              "<tbody>\n",
              "\t<tr><th scope=row>Ncells</th><td> 657245</td><td>35.2</td><td>1454460</td><td>77.7</td><td>1326117</td><td>70.9</td></tr>\n",
              "\t<tr><th scope=row>Vcells</th><td>1220272</td><td> 9.4</td><td>8388608</td><td>64.0</td><td>1975127</td><td>15.1</td></tr>\n",
              "</tbody>\n",
              "</table>\n"
            ],
            "text/markdown": "\nA matrix: 2 × 6 of type dbl\n\n| <!--/--> | used | (Mb) | gc trigger | (Mb) | max used | (Mb) |\n|---|---|---|---|---|---|---|\n| Ncells |  657245 | 35.2 | 1454460 | 77.7 | 1326117 | 70.9 |\n| Vcells | 1220272 |  9.4 | 8388608 | 64.0 | 1975127 | 15.1 |\n\n",
            "text/latex": "A matrix: 2 × 6 of type dbl\n\\begin{tabular}{r|llllll}\n  & used & (Mb) & gc trigger & (Mb) & max used & (Mb)\\\\\n\\hline\n\tNcells &  657245 & 35.2 & 1454460 & 77.7 & 1326117 & 70.9\\\\\n\tVcells & 1220272 &  9.4 & 8388608 & 64.0 & 1975127 & 15.1\\\\\n\\end{tabular}\n",
            "text/plain": [
              "       used    (Mb) gc trigger (Mb) max used (Mb)\n",
              "Ncells  657245 35.2 1454460    77.7 1326117  70.9\n",
              "Vcells 1220272  9.4 8388608    64.0 1975127  15.1"
            ]
          },
          "metadata": {}
        }
      ]
    },
    {
      "cell_type": "code",
      "source": [
        "# cargo las librerias que necesito\n",
        "require(\"data.table\")\n",
        "require(\"rpart\")\n",
        "require(\"parallel\")\n",
        "if (!require(\"primes\")) install.packages(\"primes\")\n",
        "require(\"primes\")"
      ],
      "metadata": {
        "id": "JO-12d7YHkWy",
        "outputId": "00860d40-3afc-4daf-c2f5-6be3f109cabf",
        "colab": {
          "base_uri": "https://localhost:8080/"
        }
      },
      "execution_count": 2,
      "outputs": [
        {
          "output_type": "stream",
          "name": "stderr",
          "text": [
            "Loading required package: data.table\n",
            "\n",
            "Loading required package: rpart\n",
            "\n",
            "Loading required package: parallel\n",
            "\n",
            "Loading required package: primes\n",
            "\n",
            "Warning message in library(package, lib.loc = lib.loc, character.only = TRUE, logical.return = TRUE, :\n",
            "“there is no package called ‘primes’”\n",
            "Installing package into ‘/usr/local/lib/R/site-library’\n",
            "(as ‘lib’ is unspecified)\n",
            "\n",
            "Loading required package: primes\n",
            "\n"
          ]
        }
      ]
    },
    {
      "cell_type": "markdown",
      "source": [
        "Aqui debe poner SU semiila primigenia"
      ],
      "metadata": {
        "id": "0MclPEJ6Q8Bp"
      }
    },
    {
      "cell_type": "code",
      "source": [
        "PARAM <- list()\n",
        "# reemplazar por su primer semilla\n",
        "PARAM$semilla_primigenia <- 879973\n",
        "PARAM$qsemillas <- 1\n",
        "\n",
        "PARAM$training_pct <- 70L  # entre  1L y 99L\n",
        "\n",
        "# elegir SU dataset comentando/ descomentando\n",
        "PARAM$dataset_nom <- \"~/datasets/dataset_pequeno.csv\""
      ],
      "metadata": {
        "id": "Vt5fC6bWHu5r"
      },
      "execution_count": 3,
      "outputs": []
    },
    {
      "cell_type": "code",
      "source": [
        "# particionar agrega una columna llamada fold a un dataset\n",
        "#  que consiste en una particion estratificada segun agrupa\n",
        "# particionar( data=dataset, division=c(70,30), agrupa=clase_ternaria, seed=semilla)\n",
        "#   crea una particion 70, 30\n",
        "\n",
        "particionar <- function(data, division, agrupa = \"\", campo = \"fold\", start = 1, seed = NA) {\n",
        "  if (!is.na(seed)) set.seed(seed)\n",
        "\n",
        "  bloque <- unlist(mapply(function(x, y) {\n",
        "    rep(y, x)\n",
        "  }, division, seq(from = start, length.out = length(division))))\n",
        "\n",
        "  data[, (campo) := sample(rep(bloque, ceiling(.N / length(bloque))))[1:.N],\n",
        "    by = agrupa\n",
        "  ]\n",
        "}\n"
      ],
      "metadata": {
        "id": "Z1dchsrWH4MD"
      },
      "execution_count": 4,
      "outputs": []
    },
    {
      "cell_type": "code",
      "source": [
        "ArbolEstimarGanancia <- function(semilla, training_pct, param_basicos) {\n",
        "  # particiono estratificadamente el dataset\n",
        "  particionar(dataset,\n",
        "    division = c(training_pct, 100L -training_pct),\n",
        "    agrupa = \"clase_ternaria\",\n",
        "    seed = semilla # aqui se usa SU semilla\n",
        "  )\n",
        "\n",
        "  # genero el modelo\n",
        "  # predecir clase_ternaria a partir del resto\n",
        "  modelo <- rpart(\"clase_ternaria ~ .\",\n",
        "    data = dataset[fold == 1], # fold==1  es training,  el 70% de los datos\n",
        "    xval = 0,\n",
        "    control = param_basicos\n",
        "  ) # aqui van los parametros del arbol\n",
        "\n",
        "  # aplico el modelo a los datos de testing\n",
        "  prediccion <- predict(modelo, # el modelo que genere recien\n",
        "    dataset[fold == 2], # fold==2  es testing, el 30% de los datos\n",
        "    type = \"prob\"\n",
        "  ) # type= \"prob\"  es que devuelva la probabilidad\n",
        "\n",
        "  # prediccion es una matriz con TRES columnas,\n",
        "  #  llamadas \"BAJA+1\", \"BAJA+2\"  y \"CONTINUA\"\n",
        "  # cada columna es el vector de probabilidades\n",
        "\n",
        "\n",
        "  # calculo la ganancia en testing  qu es fold==2\n",
        "  ganancia_test <- dataset[\n",
        "    fold == 2,\n",
        "    sum(ifelse(prediccion[, \"BAJA+2\"] > 0.025,\n",
        "      ifelse(clase_ternaria == \"BAJA+2\", 117000, -3000),\n",
        "      0\n",
        "    ))\n",
        "  ]\n",
        "\n",
        "  # escalo la ganancia como si fuera todo el dataset\n",
        "  ganancia_test_normalizada <- ganancia_test / (( 100 - PARAM$training_pct ) / 100 )\n",
        "\n",
        "  return(\n",
        "    c( list(\"semilla\" = semilla),\n",
        "      param_basicos,\n",
        "      list( \"ganancia_test\" = ganancia_test_normalizada )\n",
        "     )\n",
        "  )\n",
        "}\n"
      ],
      "metadata": {
        "id": "xsHwS1CzIA70"
      },
      "execution_count": 5,
      "outputs": []
    },
    {
      "cell_type": "code",
      "source": [
        "ArbolesMontecarlo <- function(semillas, param_basicos) {\n",
        "\n",
        "  # la funcion mcmapply  llama a la funcion ArbolEstimarGanancia\n",
        "  #  tantas veces como valores tenga el vector  PARAM$semillas\n",
        "  salida <- mcmapply(ArbolEstimarGanancia,\n",
        "    semillas, # paso el vector de semillas\n",
        "    MoreArgs = list(PARAM$training_pct, param_basicos), # aqui paso el segundo parametro\n",
        "    SIMPLIFY = FALSE,\n",
        "    mc.cores = detectCores()\n",
        "  )\n",
        "\n",
        "  return(salida)\n",
        "}\n"
      ],
      "metadata": {
        "id": "BvBVOuhqIEjD"
      },
      "execution_count": 6,
      "outputs": []
    },
    {
      "cell_type": "code",
      "source": [
        "# carpeta de trabajo\n",
        "# por fabor cambiar numero de experimento si se cambia el loop principal\n",
        "setwd(\"/content/buckets/b1/exp\")\n",
        "experimento <- \"HT2911\"\n",
        "dir.create(experimento, showWarnings=FALSE)\n",
        "setwd( paste0(\"/content/buckets/b1/exp/\", experimento ))"
      ],
      "metadata": {
        "id": "L-DOGHOjIG7G"
      },
      "execution_count": 7,
      "outputs": []
    },
    {
      "cell_type": "code",
      "source": [
        "# lectura del dataset\n",
        "dataset <- fread(\"/content/datasets/dataset_pequeno.csv\")\n",
        "\n",
        "# trabajo solo con los datos con clase, es decir 202107\n",
        "dataset <- dataset[clase_ternaria != \"\"]"
      ],
      "metadata": {
        "id": "NM-mrLWcIPo6"
      },
      "execution_count": 8,
      "outputs": []
    },
    {
      "cell_type": "code",
      "source": [
        "\n",
        "# genero numeros primos\n",
        "primos <- generate_primes(min = 100000, max = 1000000)\n",
        "set.seed(PARAM$semilla_primigenia) # inicializo\n",
        "# me quedo con PARAM$qsemillas   semillas\n",
        "PARAM$semillas <- sample(primos, PARAM$qsemillas )\n"
      ],
      "metadata": {
        "id": "tSlY0EcgIWdi"
      },
      "execution_count": 9,
      "outputs": []
    },
    {
      "cell_type": "code",
      "source": [
        "# genero la data.table donde van los resultados detallados del Grid Search\n",
        "# un registro para cada combinacion de < semilla, parametros >\n",
        "\n",
        "if(file.exists(\"gridsearch_detalle.txt\")){\n",
        "  tb_grid_search_detalle <- fread(\"gridsearch_detalle.txt\")\n",
        "}else{\n",
        "  tb_grid_search_detalle <- data.table(\n",
        "    semilla = integer(),\n",
        "    cp = numeric(),\n",
        "    maxdepth = integer(),\n",
        "   minsplit = integer(),\n",
        "    minbucket = integer(),\n",
        "    ganancia_test = numeric()\n",
        "  )\n",
        "}\n",
        "\n",
        "nrow( tb_grid_search_detalle )"
      ],
      "metadata": {
        "id": "xxCAwIKyIaTl",
        "outputId": "8cda4cc1-505e-4772-877b-28d3ba0399db",
        "colab": {
          "base_uri": "https://localhost:8080/",
          "height": 34
        }
      },
      "execution_count": 10,
      "outputs": [
        {
          "output_type": "display_data",
          "data": {
            "text/html": [
              "0"
            ],
            "text/markdown": "0",
            "text/latex": "0",
            "text/plain": [
              "[1] 0"
            ]
          },
          "metadata": {}
        }
      ]
    },
    {
      "cell_type": "markdown",
      "source": [
        "Esta es la parte del código que usted debe expandir a TODOS los hiperparámetros de rpart,\n",
        "<br>ya que actualmente apenas recorre  maxdepth y  minsplit  dejando fijos  cp=-0.5  y minbucket=5"
      ],
      "metadata": {
        "id": "eAuGBNL8IkOD"
      }
    },
    {
      "cell_type": "code",
      "source": [
        "\n",
        "\n",
        "# -----------------------------------------------------------\n",
        "# 1. Definición y Generación del Random Grid (Máximo 50 Iteraciones)\n",
        "# -----------------------------------------------------------\n",
        "\n",
        "# Establece los rangos de valores para cada hiperparámetro\n",
        "profundidad_maxima <- 3:20\n",
        "min_split_posibles <- seq(450,1000, by = 50)\n",
        "min_bucket_posibles <- 1:20\n",
        "\n",
        "CP_FIJO <- -0.5 # 'cp' se mantiene fijo\n",
        "\n",
        "# Generar todas las combinaciones posibles\n",
        "grid_completo <- expand.grid(\n",
        "  vmax_depth  = profundidad_maxima,\n",
        "  vmin_split  = min_split_posibles,\n",
        "  vmin_bucket = min_bucket_posibles\n",
        ")\n",
        "\n",
        "# Definir la cantidad máxima de combinaciones a evaluar\n",
        "MAX_ITERACIONES <- 50\n",
        "\n",
        "# Muestreo aleatorio sin repetición. Se selecciona un máximo de 50 filas\n",
        "# del grid completo. 'replace = FALSE' asegura la no repetición de combinaciones.\n",
        "set.seed(PARAM$seed_grid) # Semilla para reproducibilidad del muestreo\n",
        "tb_random_grid <- grid_completo[\n",
        "  sample(\n",
        "    x = 1:nrow(grid_completo),\n",
        "    size = min(MAX_ITERACIONES, nrow(grid_completo)), # Limita a 50 o menos\n",
        "    replace = FALSE\n",
        "  ),\n",
        "]\n",
        "\n",
        "\n",
        "# -----------------------------------------------------------\n",
        "# 2. Bucle Simplificado para la Ejecución\n",
        "# -----------------------------------------------------------\n",
        "\n",
        "iter <- 0 # Contador de iteraciones\n",
        "n_ejecuciones <- nrow(tb_random_grid) # El número máximo es 50 (o menos)\n",
        "\n",
        "# Se itera sobre las filas (índices) del Random Grid\n",
        "for (i in 1:n_ejecuciones) {\n",
        "\n",
        "  iter <- iter + 1\n",
        "  cat(iter, \" \")\n",
        "  flush.console()\n",
        "\n",
        "  # Lógica para reanudar la ejecución si el proceso se interrumpió\n",
        "  if (iter * PARAM$qsemillas < nrow(tb_grid_search_detalle) + 1) next\n",
        "\n",
        "  # Extraer los hiperparámetros directamente de la tabla en la iteración 'i'\n",
        "  param_basicos <- list(\n",
        "    \"cp\"        = CP_FIJO,\n",
        "    \"maxdepth\"  = tb_random_grid$vmax_depth[i],\n",
        "    \"minsplit\"  = tb_random_grid$vmin_split[i],\n",
        "    \"minbucket\" = tb_random_grid$vmin_bucket[i]\n",
        "  )\n",
        "\n",
        "  # Ejecutar la función de entrenamiento/simulación\n",
        "  ganancias <- ArbolesMontecarlo(PARAM$semillas, param_basicos)\n",
        "\n",
        "  # Agregar el resultado a la tabla de detalle\n",
        "  tb_grid_search_detalle <- rbindlist(\n",
        "    list(tb_grid_search_detalle,\n",
        "         rbindlist(ganancias))\n",
        "  )\n",
        "\n",
        "  # Grabar el progreso\n",
        "  fwrite(tb_grid_search_detalle,\n",
        "         file = \"gridsearch_detalle.txt\",\n",
        "         sep = \"\\t\")\n",
        "}"
      ],
      "metadata": {
        "id": "ipLHm3STIfmb",
        "outputId": "6693faec-2d9f-440c-8956-44928eb36299",
        "colab": {
          "base_uri": "https://localhost:8080/"
        }
      },
      "execution_count": 11,
      "outputs": [
        {
          "output_type": "stream",
          "name": "stdout",
          "text": [
            "1  2  3  4  5  6  7  8  9  10  11  12  13  14  15  16  17  "
          ]
        }
      ]
    },
    {
      "cell_type": "code",
      "source": [
        "fwrite( tb_grid_search_detalle,\n",
        "   file = \"gridsearch_detalle.txt\",\n",
        "   sep = \"\\t\"\n",
        ")"
      ],
      "metadata": {
        "id": "WZaSqYBxiDFu"
      },
      "execution_count": null,
      "outputs": []
    },
    {
      "cell_type": "code",
      "source": [
        "# cantidad de registros de la tabla\n",
        "nrow(tb_grid_search_detalle)"
      ],
      "metadata": {
        "id": "STp0duM-RYVJ",
        "outputId": "fb170926-2921-4e9d-d787-ffc34bf70d7a",
        "colab": {
          "base_uri": "https://localhost:8080/",
          "height": 34
        }
      },
      "execution_count": null,
      "outputs": [
        {
          "output_type": "display_data",
          "data": {
            "text/html": [
              "27"
            ],
            "text/markdown": "27",
            "text/latex": "27",
            "text/plain": [
              "[1] 27"
            ]
          },
          "metadata": {}
        }
      ]
    },
    {
      "cell_type": "code",
      "source": [
        "# muestro la tabla\n",
        "tb_grid_search_detalle"
      ],
      "metadata": {
        "id": "k7fhk_H0iNez",
        "outputId": "2db1a2bf-7d77-44cc-ba23-92deff07ed9a",
        "colab": {
          "base_uri": "https://localhost:8080/",
          "height": 944
        }
      },
      "execution_count": null,
      "outputs": [
        {
          "output_type": "display_data",
          "data": {
            "text/html": [
              "<table class=\"dataframe\">\n",
              "<caption>A data.table: 27 × 6</caption>\n",
              "<thead>\n",
              "\t<tr><th scope=col>semilla</th><th scope=col>cp</th><th scope=col>maxdepth</th><th scope=col>minsplit</th><th scope=col>minbucket</th><th scope=col>ganancia_test</th></tr>\n",
              "\t<tr><th scope=col>&lt;int&gt;</th><th scope=col>&lt;dbl&gt;</th><th scope=col>&lt;dbl&gt;</th><th scope=col>&lt;dbl&gt;</th><th scope=col>&lt;dbl&gt;</th><th scope=col>&lt;dbl&gt;</th></tr>\n",
              "</thead>\n",
              "<tbody>\n",
              "\t<tr><td>421709</td><td>1e-05</td><td> 5</td><td>100</td><td>10</td><td>       0</td></tr>\n",
              "\t<tr><td>421709</td><td>1e-05</td><td> 5</td><td>100</td><td> 5</td><td>32950000</td></tr>\n",
              "\t<tr><td>421709</td><td>1e-05</td><td> 5</td><td>100</td><td> 1</td><td>45580000</td></tr>\n",
              "\t<tr><td>421709</td><td>1e-05</td><td> 5</td><td> 50</td><td>10</td><td>34330000</td></tr>\n",
              "\t<tr><td>421709</td><td>1e-05</td><td> 5</td><td> 50</td><td> 5</td><td>34330000</td></tr>\n",
              "\t<tr><td>421709</td><td>1e-05</td><td> 5</td><td> 50</td><td> 1</td><td>45900000</td></tr>\n",
              "\t<tr><td>421709</td><td>1e-05</td><td> 5</td><td> 20</td><td>10</td><td>37760000</td></tr>\n",
              "\t<tr><td>421709</td><td>1e-05</td><td> 5</td><td> 20</td><td> 5</td><td>37760000</td></tr>\n",
              "\t<tr><td>421709</td><td>1e-05</td><td> 5</td><td> 20</td><td> 1</td><td>45900000</td></tr>\n",
              "\t<tr><td>421709</td><td>1e-05</td><td>10</td><td>100</td><td>10</td><td>32950000</td></tr>\n",
              "\t<tr><td>421709</td><td>1e-05</td><td>10</td><td>100</td><td> 5</td><td>43370000</td></tr>\n",
              "\t<tr><td>421709</td><td>1e-05</td><td>10</td><td>100</td><td> 1</td><td>45260000</td></tr>\n",
              "\t<tr><td>421709</td><td>1e-05</td><td>10</td><td> 50</td><td>10</td><td>34330000</td></tr>\n",
              "\t<tr><td>421709</td><td>1e-05</td><td>10</td><td> 50</td><td> 5</td><td>43600000</td></tr>\n",
              "\t<tr><td>421709</td><td>1e-05</td><td>10</td><td> 50</td><td> 1</td><td>45560000</td></tr>\n",
              "\t<tr><td>421709</td><td>1e-05</td><td>10</td><td> 20</td><td>10</td><td>47340000</td></tr>\n",
              "\t<tr><td>421709</td><td>1e-05</td><td>10</td><td> 20</td><td> 5</td><td>46530000</td></tr>\n",
              "\t<tr><td>421709</td><td>1e-05</td><td>10</td><td> 20</td><td> 1</td><td>44620000</td></tr>\n",
              "\t<tr><td>421709</td><td>1e-05</td><td>15</td><td>100</td><td>10</td><td>32950000</td></tr>\n",
              "\t<tr><td>421709</td><td>1e-05</td><td>15</td><td>100</td><td> 5</td><td>42470000</td></tr>\n",
              "\t<tr><td>421709</td><td>1e-05</td><td>15</td><td>100</td><td> 1</td><td>42750000</td></tr>\n",
              "\t<tr><td>421709</td><td>1e-05</td><td>15</td><td> 50</td><td>10</td><td>42510000</td></tr>\n",
              "\t<tr><td>421709</td><td>1e-05</td><td>15</td><td> 50</td><td> 5</td><td>42520000</td></tr>\n",
              "\t<tr><td>421709</td><td>1e-05</td><td>15</td><td> 50</td><td> 1</td><td>42770000</td></tr>\n",
              "\t<tr><td>421709</td><td>1e-05</td><td>15</td><td> 20</td><td>10</td><td>47100000</td></tr>\n",
              "\t<tr><td>421709</td><td>1e-05</td><td>15</td><td> 20</td><td> 5</td><td>44420000</td></tr>\n",
              "\t<tr><td>421709</td><td>1e-05</td><td>15</td><td> 20</td><td> 1</td><td>40860000</td></tr>\n",
              "</tbody>\n",
              "</table>\n"
            ],
            "text/markdown": "\nA data.table: 27 × 6\n\n| semilla &lt;int&gt; | cp &lt;dbl&gt; | maxdepth &lt;dbl&gt; | minsplit &lt;dbl&gt; | minbucket &lt;dbl&gt; | ganancia_test &lt;dbl&gt; |\n|---|---|---|---|---|---|\n| 421709 | 1e-05 |  5 | 100 | 10 |        0 |\n| 421709 | 1e-05 |  5 | 100 |  5 | 32950000 |\n| 421709 | 1e-05 |  5 | 100 |  1 | 45580000 |\n| 421709 | 1e-05 |  5 |  50 | 10 | 34330000 |\n| 421709 | 1e-05 |  5 |  50 |  5 | 34330000 |\n| 421709 | 1e-05 |  5 |  50 |  1 | 45900000 |\n| 421709 | 1e-05 |  5 |  20 | 10 | 37760000 |\n| 421709 | 1e-05 |  5 |  20 |  5 | 37760000 |\n| 421709 | 1e-05 |  5 |  20 |  1 | 45900000 |\n| 421709 | 1e-05 | 10 | 100 | 10 | 32950000 |\n| 421709 | 1e-05 | 10 | 100 |  5 | 43370000 |\n| 421709 | 1e-05 | 10 | 100 |  1 | 45260000 |\n| 421709 | 1e-05 | 10 |  50 | 10 | 34330000 |\n| 421709 | 1e-05 | 10 |  50 |  5 | 43600000 |\n| 421709 | 1e-05 | 10 |  50 |  1 | 45560000 |\n| 421709 | 1e-05 | 10 |  20 | 10 | 47340000 |\n| 421709 | 1e-05 | 10 |  20 |  5 | 46530000 |\n| 421709 | 1e-05 | 10 |  20 |  1 | 44620000 |\n| 421709 | 1e-05 | 15 | 100 | 10 | 32950000 |\n| 421709 | 1e-05 | 15 | 100 |  5 | 42470000 |\n| 421709 | 1e-05 | 15 | 100 |  1 | 42750000 |\n| 421709 | 1e-05 | 15 |  50 | 10 | 42510000 |\n| 421709 | 1e-05 | 15 |  50 |  5 | 42520000 |\n| 421709 | 1e-05 | 15 |  50 |  1 | 42770000 |\n| 421709 | 1e-05 | 15 |  20 | 10 | 47100000 |\n| 421709 | 1e-05 | 15 |  20 |  5 | 44420000 |\n| 421709 | 1e-05 | 15 |  20 |  1 | 40860000 |\n\n",
            "text/latex": "A data.table: 27 × 6\n\\begin{tabular}{llllll}\n semilla & cp & maxdepth & minsplit & minbucket & ganancia\\_test\\\\\n <int> & <dbl> & <dbl> & <dbl> & <dbl> & <dbl>\\\\\n\\hline\n\t 421709 & 1e-05 &  5 & 100 & 10 &        0\\\\\n\t 421709 & 1e-05 &  5 & 100 &  5 & 32950000\\\\\n\t 421709 & 1e-05 &  5 & 100 &  1 & 45580000\\\\\n\t 421709 & 1e-05 &  5 &  50 & 10 & 34330000\\\\\n\t 421709 & 1e-05 &  5 &  50 &  5 & 34330000\\\\\n\t 421709 & 1e-05 &  5 &  50 &  1 & 45900000\\\\\n\t 421709 & 1e-05 &  5 &  20 & 10 & 37760000\\\\\n\t 421709 & 1e-05 &  5 &  20 &  5 & 37760000\\\\\n\t 421709 & 1e-05 &  5 &  20 &  1 & 45900000\\\\\n\t 421709 & 1e-05 & 10 & 100 & 10 & 32950000\\\\\n\t 421709 & 1e-05 & 10 & 100 &  5 & 43370000\\\\\n\t 421709 & 1e-05 & 10 & 100 &  1 & 45260000\\\\\n\t 421709 & 1e-05 & 10 &  50 & 10 & 34330000\\\\\n\t 421709 & 1e-05 & 10 &  50 &  5 & 43600000\\\\\n\t 421709 & 1e-05 & 10 &  50 &  1 & 45560000\\\\\n\t 421709 & 1e-05 & 10 &  20 & 10 & 47340000\\\\\n\t 421709 & 1e-05 & 10 &  20 &  5 & 46530000\\\\\n\t 421709 & 1e-05 & 10 &  20 &  1 & 44620000\\\\\n\t 421709 & 1e-05 & 15 & 100 & 10 & 32950000\\\\\n\t 421709 & 1e-05 & 15 & 100 &  5 & 42470000\\\\\n\t 421709 & 1e-05 & 15 & 100 &  1 & 42750000\\\\\n\t 421709 & 1e-05 & 15 &  50 & 10 & 42510000\\\\\n\t 421709 & 1e-05 & 15 &  50 &  5 & 42520000\\\\\n\t 421709 & 1e-05 & 15 &  50 &  1 & 42770000\\\\\n\t 421709 & 1e-05 & 15 &  20 & 10 & 47100000\\\\\n\t 421709 & 1e-05 & 15 &  20 &  5 & 44420000\\\\\n\t 421709 & 1e-05 & 15 &  20 &  1 & 40860000\\\\\n\\end{tabular}\n",
            "text/plain": [
              "   semilla cp    maxdepth minsplit minbucket ganancia_test\n",
              "1  421709  1e-05  5       100      10               0     \n",
              "2  421709  1e-05  5       100       5        32950000     \n",
              "3  421709  1e-05  5       100       1        45580000     \n",
              "4  421709  1e-05  5        50      10        34330000     \n",
              "5  421709  1e-05  5        50       5        34330000     \n",
              "6  421709  1e-05  5        50       1        45900000     \n",
              "7  421709  1e-05  5        20      10        37760000     \n",
              "8  421709  1e-05  5        20       5        37760000     \n",
              "9  421709  1e-05  5        20       1        45900000     \n",
              "10 421709  1e-05 10       100      10        32950000     \n",
              "11 421709  1e-05 10       100       5        43370000     \n",
              "12 421709  1e-05 10       100       1        45260000     \n",
              "13 421709  1e-05 10        50      10        34330000     \n",
              "14 421709  1e-05 10        50       5        43600000     \n",
              "15 421709  1e-05 10        50       1        45560000     \n",
              "16 421709  1e-05 10        20      10        47340000     \n",
              "17 421709  1e-05 10        20       5        46530000     \n",
              "18 421709  1e-05 10        20       1        44620000     \n",
              "19 421709  1e-05 15       100      10        32950000     \n",
              "20 421709  1e-05 15       100       5        42470000     \n",
              "21 421709  1e-05 15       100       1        42750000     \n",
              "22 421709  1e-05 15        50      10        42510000     \n",
              "23 421709  1e-05 15        50       5        42520000     \n",
              "24 421709  1e-05 15        50       1        42770000     \n",
              "25 421709  1e-05 15        20      10        47100000     \n",
              "26 421709  1e-05 15        20       5        44420000     \n",
              "27 421709  1e-05 15        20       1        40860000     "
            ]
          },
          "metadata": {}
        }
      ]
    },
    {
      "cell_type": "code",
      "source": [
        "# genero y grabo el resumen\n",
        "tb_grid_search <- tb_grid_search_detalle[,\n",
        "  list( \"ganancia_mean\" = mean(ganancia_test),\n",
        "    \"qty\" = .N ),\n",
        "  list( cp, maxdepth, minsplit, minbucket )\n",
        "]\n"
      ],
      "metadata": {
        "id": "DjCxtx8bIsgl"
      },
      "execution_count": null,
      "outputs": []
    },
    {
      "cell_type": "code",
      "source": [
        "# ordeno descendente por ganancia\n",
        "setorder( tb_grid_search, -ganancia_mean )\n"
      ],
      "metadata": {
        "id": "LU29UhL1Ivg5"
      },
      "execution_count": null,
      "outputs": []
    },
    {
      "cell_type": "code",
      "source": [
        "# veo los 10 mejores hiperparámetros\n",
        "tb_grid_search[1:10]"
      ],
      "metadata": {
        "id": "g-EjGY7aIyWL",
        "outputId": "41dc23fe-3a99-4017-a927-9ceb8963bd1b",
        "colab": {
          "base_uri": "https://localhost:8080/",
          "height": 411
        }
      },
      "execution_count": null,
      "outputs": [
        {
          "output_type": "display_data",
          "data": {
            "text/html": [
              "<table class=\"dataframe\">\n",
              "<caption>A data.table: 10 × 6</caption>\n",
              "<thead>\n",
              "\t<tr><th scope=col>cp</th><th scope=col>maxdepth</th><th scope=col>minsplit</th><th scope=col>minbucket</th><th scope=col>ganancia_mean</th><th scope=col>qty</th></tr>\n",
              "\t<tr><th scope=col>&lt;dbl&gt;</th><th scope=col>&lt;dbl&gt;</th><th scope=col>&lt;dbl&gt;</th><th scope=col>&lt;dbl&gt;</th><th scope=col>&lt;dbl&gt;</th><th scope=col>&lt;int&gt;</th></tr>\n",
              "</thead>\n",
              "<tbody>\n",
              "\t<tr><td>1e-05</td><td>10</td><td> 20</td><td>10</td><td>47340000</td><td>1</td></tr>\n",
              "\t<tr><td>1e-05</td><td>15</td><td> 20</td><td>10</td><td>47100000</td><td>1</td></tr>\n",
              "\t<tr><td>1e-05</td><td>10</td><td> 20</td><td> 5</td><td>46530000</td><td>1</td></tr>\n",
              "\t<tr><td>1e-05</td><td> 5</td><td> 50</td><td> 1</td><td>45900000</td><td>1</td></tr>\n",
              "\t<tr><td>1e-05</td><td> 5</td><td> 20</td><td> 1</td><td>45900000</td><td>1</td></tr>\n",
              "\t<tr><td>1e-05</td><td> 5</td><td>100</td><td> 1</td><td>45580000</td><td>1</td></tr>\n",
              "\t<tr><td>1e-05</td><td>10</td><td> 50</td><td> 1</td><td>45560000</td><td>1</td></tr>\n",
              "\t<tr><td>1e-05</td><td>10</td><td>100</td><td> 1</td><td>45260000</td><td>1</td></tr>\n",
              "\t<tr><td>1e-05</td><td>10</td><td> 20</td><td> 1</td><td>44620000</td><td>1</td></tr>\n",
              "\t<tr><td>1e-05</td><td>15</td><td> 20</td><td> 5</td><td>44420000</td><td>1</td></tr>\n",
              "</tbody>\n",
              "</table>\n"
            ],
            "text/markdown": "\nA data.table: 10 × 6\n\n| cp &lt;dbl&gt; | maxdepth &lt;dbl&gt; | minsplit &lt;dbl&gt; | minbucket &lt;dbl&gt; | ganancia_mean &lt;dbl&gt; | qty &lt;int&gt; |\n|---|---|---|---|---|---|\n| 1e-05 | 10 |  20 | 10 | 47340000 | 1 |\n| 1e-05 | 15 |  20 | 10 | 47100000 | 1 |\n| 1e-05 | 10 |  20 |  5 | 46530000 | 1 |\n| 1e-05 |  5 |  50 |  1 | 45900000 | 1 |\n| 1e-05 |  5 |  20 |  1 | 45900000 | 1 |\n| 1e-05 |  5 | 100 |  1 | 45580000 | 1 |\n| 1e-05 | 10 |  50 |  1 | 45560000 | 1 |\n| 1e-05 | 10 | 100 |  1 | 45260000 | 1 |\n| 1e-05 | 10 |  20 |  1 | 44620000 | 1 |\n| 1e-05 | 15 |  20 |  5 | 44420000 | 1 |\n\n",
            "text/latex": "A data.table: 10 × 6\n\\begin{tabular}{llllll}\n cp & maxdepth & minsplit & minbucket & ganancia\\_mean & qty\\\\\n <dbl> & <dbl> & <dbl> & <dbl> & <dbl> & <int>\\\\\n\\hline\n\t 1e-05 & 10 &  20 & 10 & 47340000 & 1\\\\\n\t 1e-05 & 15 &  20 & 10 & 47100000 & 1\\\\\n\t 1e-05 & 10 &  20 &  5 & 46530000 & 1\\\\\n\t 1e-05 &  5 &  50 &  1 & 45900000 & 1\\\\\n\t 1e-05 &  5 &  20 &  1 & 45900000 & 1\\\\\n\t 1e-05 &  5 & 100 &  1 & 45580000 & 1\\\\\n\t 1e-05 & 10 &  50 &  1 & 45560000 & 1\\\\\n\t 1e-05 & 10 & 100 &  1 & 45260000 & 1\\\\\n\t 1e-05 & 10 &  20 &  1 & 44620000 & 1\\\\\n\t 1e-05 & 15 &  20 &  5 & 44420000 & 1\\\\\n\\end{tabular}\n",
            "text/plain": [
              "   cp    maxdepth minsplit minbucket ganancia_mean qty\n",
              "1  1e-05 10        20      10        47340000      1  \n",
              "2  1e-05 15        20      10        47100000      1  \n",
              "3  1e-05 10        20       5        46530000      1  \n",
              "4  1e-05  5        50       1        45900000      1  \n",
              "5  1e-05  5        20       1        45900000      1  \n",
              "6  1e-05  5       100       1        45580000      1  \n",
              "7  1e-05 10        50       1        45560000      1  \n",
              "8  1e-05 10       100       1        45260000      1  \n",
              "9  1e-05 10        20       1        44620000      1  \n",
              "10 1e-05 15        20       5        44420000      1  "
            ]
          },
          "metadata": {}
        }
      ]
    },
    {
      "cell_type": "code",
      "source": [
        "# genero un id a la tabla\n",
        "tb_grid_search[, id := .I ]\n",
        "\n",
        "fwrite( tb_grid_search,\n",
        "  file = \"gridsearch.txt\",\n",
        "  sep = \"\\t\"\n",
        ")\n"
      ],
      "metadata": {
        "id": "K3S-I2PTI5ZE"
      },
      "execution_count": null,
      "outputs": []
    },
    {
      "cell_type": "markdown",
      "source": [
        "# 4.  Análisis de resultados de Grid Search"
      ],
      "metadata": {
        "id": "1rYHk1YkI_9k"
      }
    },
    {
      "cell_type": "markdown",
      "source": [
        "La salida de la corrida anterior queda en ~/buckets/b1/exp/HT2900  que corresponde a su Google Drive\n",
        "<br>HT significa Hyperparameter Tuning\n",
        "<br>El Grid Search es un método de fuerza bruta de un altísimo costo computacional.\n",
        "<br>Queremos ver si es posible crear un algoritmo de optimización de hiperparámetros que se ahorre recorrer ciertas porciones muy malas del espacio de búsqueda. Algo del estilo “cada vez que pruebo una combinación de hiperparámetros donde  cp > 1 , la ganancia es muy mala, con lo cual ni vale la pena perder el tiempo explorando en esa region”\n"
      ],
      "metadata": {
        "id": "ZTJgPhMWJHTk"
      }
    },
    {
      "cell_type": "markdown",
      "source": [
        "<br>Levante el archivo de salida gridsearch.txt  a una planilla tipo Excel y analícelo detenidamente\n",
        "<br>Ordene por ganancia_mean descendente\n",
        "<br>\n",
        "<br>El de mayor ganancia_mean  decimos que es el primero del ranking\n",
        "En Zulip, correspondiente channel  #Tarea Hogar 02 , topic Analisis Grid Search   intente contestar estas preguntas:\n",
        "\n",
        "* ¿Qué combinaciones de hiperparámetros poseen una ganancia muy buena?\n",
        "* ¿Hay algun hiperparámetro que para cierto valor siempre genera una ganancia muy mala, a independientemente de lo que valgan los otros hiperparámetros ?\n",
        "* ¿Que combinaciones de hiperparámetros es pésima y hubiera sido bueno ahorrarse esas corridas ?\n",
        "\n",
        "( tiempo estimado 30 minutos, dificultad media )"
      ],
      "metadata": {
        "id": "IaVgMu4tPwyB"
      }
    }
  ]
}